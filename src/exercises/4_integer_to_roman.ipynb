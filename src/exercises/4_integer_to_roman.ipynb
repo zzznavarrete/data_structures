{
 "cells": [
  {
   "cell_type": "code",
   "execution_count": 97,
   "metadata": {},
   "outputs": [
    {
     "data": {
      "text/plain": [
       "'XIV'"
      ]
     },
     "execution_count": 97,
     "metadata": {},
     "output_type": "execute_result"
    }
   ],
   "source": [
    "def intToRoman(num:int) -> str:\n",
    "    \"\"\"\n",
    "    Returns a roman number given an integer.\n",
    "    \"\"\"\n",
    "\n",
    "    dict_roman:dict = {\n",
    "        1000: 'M',\n",
    "        500: 'D',\n",
    "        100: 'C',\n",
    "        50: 'L',\n",
    "        10: 'X',\n",
    "        5:'V',\n",
    "        1:'I',        \n",
    "    }\n",
    "\n",
    "    remaining_num:int = num\n",
    "    result_:str = ''\n",
    "    prev_i:int = 0\n",
    "\n",
    "    while remaining_num > 0:\n",
    "        for i in dict_roman.keys():\n",
    "            division = remaining_num / i\n",
    "\n",
    "\n",
    "            if division >= 1: # if is greater than 1\n",
    "                times_ = int(division)\n",
    "                if prev_i != 0:\n",
    "                    # Need to fix this, Not always will be 1\n",
    "                    add_:int = 1\n",
    "                    #for _ in \n",
    "                    try:\n",
    "                        if (remaining_num + add_) in dict_roman.keys():\n",
    "                            result_ = str(result_) + str(dict_roman[add_]) + str(dict_roman[remaining_num +add_ ])\n",
    "                            remaining_num = remaining_num - (remaining_num + i)\n",
    "                            continue        \n",
    "                    except:\n",
    "                        pass\n",
    "\n",
    "                for _ in range(0,times_):\n",
    "                    result_ = str(result_) + str(dict_roman[i])\n",
    "                \n",
    "\n",
    "                remaining_num = remaining_num - (times_ * i )\n",
    "          \n",
    "            prev_i = i\n",
    "\n",
    "    return result_\n",
    "\n",
    "\n",
    "intToRoman(14)"
   ]
  },
  {
   "cell_type": "code",
   "execution_count": 101,
   "metadata": {},
   "outputs": [
    {
     "data": {
      "text/plain": [
       "'MCMXCIV'"
      ]
     },
     "execution_count": 101,
     "metadata": {},
     "output_type": "execute_result"
    }
   ],
   "source": [
    "def intToRoman(num:int) -> str:\n",
    "    \"\"\"\n",
    "    Returns a roman number given an integer.\n",
    "    \"\"\"\n",
    "\n",
    "    dict_roman:dict = {\n",
    "        1000: 'M',\n",
    "        900: 'CM',\n",
    "        500: 'D',\n",
    "        400:'CD',\n",
    "        100: 'C',\n",
    "        90: 'XC',\n",
    "        50: 'L',\n",
    "        40:'XL',\n",
    "        10: 'X',\n",
    "        9:'IX',\n",
    "        5:'V',\n",
    "        4:'IV',\n",
    "        1:'I',        \n",
    "    }\n",
    "\n",
    "    remaining_num:int = num\n",
    "    result_:str = ''\n",
    "    prev_i:int = 0\n",
    "\n",
    "    while remaining_num > 0:\n",
    "        for i in dict_roman.keys():\n",
    "            division = remaining_num / i\n",
    "\n",
    "\n",
    "            if division >= 1: # if is greater than 1\n",
    "                times_ = int(division)\n",
    "               \n",
    "\n",
    "                for _ in range(0,times_):\n",
    "                    result_ = str(result_) + str(dict_roman[i])\n",
    "                \n",
    "\n",
    "                remaining_num = remaining_num - (times_ * i )\n",
    "          \n",
    "            prev_i = i\n",
    "\n",
    "    return result_\n",
    "\n",
    "\n",
    "intToRoman(1994)"
   ]
  },
  {
   "cell_type": "code",
   "execution_count": null,
   "metadata": {},
   "outputs": [],
   "source": []
  }
 ],
 "metadata": {
  "kernelspec": {
   "display_name": "Python 3",
   "language": "python",
   "name": "python3"
  },
  "language_info": {
   "codemirror_mode": {
    "name": "ipython",
    "version": 3
   },
   "file_extension": ".py",
   "mimetype": "text/x-python",
   "name": "python",
   "nbconvert_exporter": "python",
   "pygments_lexer": "ipython3",
   "version": "3.12.0"
  }
 },
 "nbformat": 4,
 "nbformat_minor": 2
}
