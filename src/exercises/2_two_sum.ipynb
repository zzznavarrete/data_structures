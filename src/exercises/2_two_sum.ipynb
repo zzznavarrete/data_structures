{
 "cells": [
  {
   "cell_type": "markdown",
   "metadata": {},
   "source": [
    "Given an array of integers nums and an integer target, return indices of the two numbers such that they add up to target.\n",
    "\n",
    "You may assume that each input would have exactly one solution, and you may not use the same element twice.\n",
    "\n",
    "You can return the answer in any order.\n",
    "\n",
    " \n",
    "\n",
    "Example 1:\n",
    "\n",
    "Input: nums = [2,7,11,15], target = 9\n",
    "Output: [0,1]\n",
    "Explanation: Because nums[0] + nums[1] == 9, we return [0, 1].\n",
    "Example 2:\n",
    "\n",
    "Input: nums = [3,2,4], target = 6\n",
    "Output: [1,2]\n",
    "Example 3:\n",
    "\n",
    "Input: nums = [3,3], target = 6\n",
    "Output: [0,1]"
   ]
  },
  {
   "cell_type": "code",
   "execution_count": 66,
   "metadata": {},
   "outputs": [
    {
     "name": "stdout",
     "output_type": "stream",
     "text": [
      "0 -10\n",
      "1 -1\n",
      "2 -18\n",
      "(2, 1)\n"
     ]
    }
   ],
   "source": [
    "def twoSum(nums: list, target: int) :\n",
    "    aux_dict:dict = {}\n",
    "    for i,j in enumerate(nums):\n",
    "        remaining = target - j\n",
    "        if remaining in aux_dict.keys():\n",
    "            return i, aux_dict[remaining]\n",
    "\n",
    "        aux_dict[j] = i\n",
    "    return \n",
    "    \n",
    "\n",
    "\n",
    "\n",
    "list_:list = [-10,-1,-18,-19]\n",
    "\n",
    "\n",
    "\n",
    "print(twoSum(list_, -19))"
   ]
  }
 ],
 "metadata": {
  "kernelspec": {
   "display_name": "Python 3",
   "language": "python",
   "name": "python3"
  },
  "language_info": {
   "codemirror_mode": {
    "name": "ipython",
    "version": 3
   },
   "file_extension": ".py",
   "mimetype": "text/x-python",
   "name": "python",
   "nbconvert_exporter": "python",
   "pygments_lexer": "ipython3",
   "version": "3.12.0"
  }
 },
 "nbformat": 4,
 "nbformat_minor": 2
}
