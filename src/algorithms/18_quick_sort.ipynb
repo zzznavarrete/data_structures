{
 "cells": [
  {
   "cell_type": "markdown",
   "metadata": {},
   "source": [
    "# Quick sort algorithm\n",
    "\n",
    "Quick sort works taking a pivot element on the list (first element) and then it starts comparing it with the rest of the items.\n",
    "\n",
    "1. It starts comparing with the next two items. The numbers that are below the pivot are shifted to left position (keeping the pivot as 1st item) and the items that are greater than the pivot are shifted to the right. Essentially the algorithm groups together the numbers that are smaller and larger to the pivot from left to right.\n",
    "2. When there are no more elements to compare, then the pivot its allocated in the middle so all the elements that are to the left are smaller and all the elements that are to the right are bigger.\n",
    "3. Later, the algorithm runs again the quick sort in each middle side by separated and it does again until there are no more elements to quick sort. \n",
    "4. Eventually, al the list will be sorted.\n",
    "\n",
    "\n"
   ]
  },
  {
   "cell_type": "code",
   "execution_count": 1,
   "metadata": {},
   "outputs": [
    {
     "name": "stdout",
     "output_type": "stream",
     "text": [
      "[1, 2, 3, 4, 5, 6, 7]\n"
     ]
    }
   ],
   "source": [
    "def swap(my_list, index1, index2):\n",
    "    temp = my_list[index1]\n",
    "    my_list[index1] = my_list[index2]\n",
    "    my_list[index2] = temp\n",
    "\n",
    "\n",
    "def pivot(my_list, pivot_index, end_index):\n",
    "    swap_index = pivot_index\n",
    "\n",
    "    for i in range(pivot_index+1, end_index+1):\n",
    "        if my_list[i] < my_list[pivot_index]:\n",
    "            swap_index += 1\n",
    "            swap(my_list, swap_index, i)\n",
    "    swap(my_list, pivot_index, swap_index)\n",
    "    return swap_index\n",
    "\n",
    "\n",
    "def quick_sort_helper(my_list, left, right):\n",
    "    if left < right:\n",
    "        pivot_index = pivot(my_list, left, right)\n",
    "        quick_sort_helper(my_list, left, pivot_index-1)  \n",
    "        quick_sort_helper(my_list, pivot_index+1, right)       \n",
    "    return my_list\n",
    "    \n",
    "\n",
    "def quick_sort(my_list):\n",
    "    quick_sort_helper(my_list, 0, len(my_list)-1)\n",
    "\n",
    " \n",
    " \n",
    "\n",
    "\n",
    "my_list = [4,6,1,7,3,2,5]\n",
    "\n",
    "quick_sort(my_list)\n",
    "\n",
    "print(my_list)\n",
    "\n",
    "\n"
   ]
  },
  {
   "cell_type": "markdown",
   "metadata": {},
   "source": [
    "## Big O\n",
    "\n",
    "Big O in quick sort it is in the _best scenario_ and the _average scenario_ $O(n\\text{ }log\\text{ }n)$. Because for the first pivot iteration we need to go over the entire original list, so that is $O(log n)$, afterwards is the half of the half so $O(log\\text{ }n)$ and combined we get $(n\\text{ }log\\text{ }n)$.\n",
    "\n",
    "But in the _worst case_, the time will be $O(n^2)$, and that case is if the given list is already sorted. If that's the situation, then it will be $O(n^2)$.\n",
    "\n",
    "\n",
    "Quick sort is more space efficient than merge sort. Quick sort is an in-place sorting algorithm, which means it doesn’t require any additional storage space. On the other hand, merge sort requires additional memory space to store auxiliary arrays during the sorting process. This makes quick sort more space efficient than merge sort."
   ]
  },
  {
   "cell_type": "code",
   "execution_count": null,
   "metadata": {},
   "outputs": [],
   "source": []
  }
 ],
 "metadata": {
  "kernelspec": {
   "display_name": "Python 3",
   "language": "python",
   "name": "python3"
  },
  "language_info": {
   "codemirror_mode": {
    "name": "ipython",
    "version": 3
   },
   "file_extension": ".py",
   "mimetype": "text/x-python",
   "name": "python",
   "nbconvert_exporter": "python",
   "pygments_lexer": "ipython3",
   "version": "3.12.0"
  }
 },
 "nbformat": 4,
 "nbformat_minor": 2
}
