{
 "cells": [
  {
   "cell_type": "code",
   "execution_count": 49,
   "metadata": {},
   "outputs": [
    {
     "name": "stdout",
     "output_type": "stream",
     "text": [
      "[1, 2]\n",
      "[4, 3]\n",
      "result_ 1\n",
      "result_ 1\n",
      "prev_result 1\n",
      "1\n"
     ]
    },
    {
     "data": {
      "text/plain": [
       "3"
      ]
     },
     "execution_count": 49,
     "metadata": {},
     "output_type": "execute_result"
    }
   ],
   "source": [
    "def maxArea(height) -> int:\n",
    "    middle_idx:int = int(len(height)/2)\n",
    "    left_:list = height[:middle_idx]\n",
    "    right_:list = height[middle_idx:]\n",
    "\n",
    "    print(left_)\n",
    "    print(right_)\n",
    "    \n",
    "    result_:int = 0\n",
    "    idx_left:int = 0\n",
    "    prev_result:int = 0\n",
    "    \n",
    "    for idx,value in enumerate(left_):\n",
    "        result_ = value - idx\n",
    "        print('result_', result_)\n",
    "\n",
    "        if idx > 0:\n",
    "            if result_ > prev_result:\n",
    "                idx_left = idx\n",
    "                prev_result = result_\n",
    "        else: \n",
    "            prev_result = result_\n",
    "\n",
    "    print('prev_result', prev_result)\n",
    "\n",
    "    result_:int = 0\n",
    "    idx_right:int = 0\n",
    "    prev_result:int = 0\n",
    "    \n",
    "    for idx,value in enumerate(right_):\n",
    "        result_ = value + idx\n",
    "        if idx > 0:\n",
    "            if result_ > prev_result:\n",
    "                idx_right = idx\n",
    "                prev_result = result_\n",
    "\n",
    "        \n",
    "    max_y_axis = min(left_[idx_left], right_[idx_right])    \n",
    "\n",
    "\n",
    "    print(left_[idx_left])\n",
    "    \n",
    "    return max_y_axis * (idx_right + len(left_[idx_left:]))\n",
    "\n",
    "\n",
    "\n",
    "list_:list = [1,2,4,3]\n",
    "maxArea(list_)"
   ]
  },
  {
   "cell_type": "code",
   "execution_count": 78,
   "metadata": {},
   "outputs": [
    {
     "data": {
      "text/plain": [
       "16"
      ]
     },
     "execution_count": 78,
     "metadata": {},
     "output_type": "execute_result"
    }
   ],
   "source": [
    "import numpy as np \n",
    "def maxArea(height) -> int:\n",
    "    middle_idx:int = int(len(height)/2)\n",
    "    left_:list = height[:middle_idx]\n",
    "    right_:list = height[middle_idx:]\n",
    "\n",
    "    \n",
    "    result_:int = 0\n",
    "    idx_left:int = 0\n",
    "    prev_result:int = 0\n",
    "    \n",
    "    for idx,value in enumerate(left_):\n",
    "        result_ = [value - idx, idx]\n",
    "        if idx > 0:\n",
    "            if result_ > prev_result:\n",
    "                idx_left = idx\n",
    "        prev_result = result_\n",
    "    \n",
    "\n",
    "    idx_right:int = 0\n",
    "    for idx, value in enumerate(right_):\n",
    "        result_ = [np.abs(left_[idx_left] - value), idx]\n",
    "        if idx > 0:\n",
    "            if result_ < prev_result:\n",
    "                idx_right = idx\n",
    "        \n",
    "        prev_result = result_\n",
    "\n",
    "\n",
    "\n",
    "    max_y_axis = min(left_[idx_left], right_[idx_right])  \n",
    "\n",
    "\n",
    "    return max_y_axis * (idx_right + len(left_[idx_left:]))\n",
    "\n",
    "\n",
    "\n",
    "list_:list = [2,3,4,5,18,17,6]\n",
    "maxArea(list_)"
   ]
  },
  {
   "cell_type": "code",
   "execution_count": 2,
   "metadata": {},
   "outputs": [
    {
     "data": {
      "text/plain": [
       "17"
      ]
     },
     "execution_count": 2,
     "metadata": {},
     "output_type": "execute_result"
    }
   ],
   "source": [
    "def maxArea(height):\n",
    "    max_ = 0\n",
    "    left = 0\n",
    "    right = len(height)- 1\n",
    "\n",
    "    while left < right:\n",
    "        currentArea = min(height[left], height[right]) * (right - left)\n",
    "        max_ = max(max_, currentArea)\n",
    "\n",
    "        if height[left] < height[right]:\n",
    "            left +=1\n",
    "        else:\n",
    "            right -= 1\n",
    "\n",
    "    return max_\n",
    "\n",
    "\n",
    "\n",
    "list_:list = [2,3,4,5,18,17,6]\n",
    "maxArea(list_)"
   ]
  }
 ],
 "metadata": {
  "kernelspec": {
   "display_name": "Python 3",
   "language": "python",
   "name": "python3"
  },
  "language_info": {
   "codemirror_mode": {
    "name": "ipython",
    "version": 3
   },
   "file_extension": ".py",
   "mimetype": "text/x-python",
   "name": "python",
   "nbconvert_exporter": "python",
   "pygments_lexer": "ipython3",
   "version": "3.12.0"
  }
 },
 "nbformat": 4,
 "nbformat_minor": 2
}
